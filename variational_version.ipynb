{
 "cells": [
  {
   "cell_type": "code",
   "execution_count": 1,
   "metadata": {},
   "outputs": [],
   "source": [
    "import numpy as np\n",
    "import casadi as ca\n",
    "import matplotlib.pyplot as plt"
   ]
  },
  {
   "cell_type": "code",
   "execution_count": 12,
   "metadata": {},
   "outputs": [],
   "source": [
    "class simple_method:\n",
    "    def __init__(self, depth, total_points):\n",
    "\n",
    "        tot_points = total_points\n",
    "        \n",
    "        self.x = np.linspace(0,depth,tot_points) \n",
    "\n",
    "        self.M = depth/(tot_points-1) * 0.5 * (np.identity(tot_points)+ np.diag(np.ones(tot_points -1), -1))\n",
    "        "
   ]
  },
  {
   "cell_type": "code",
   "execution_count": 50,
   "metadata": {},
   "outputs": [],
   "source": [
    "layers = 10\n",
    "segments = 10\n",
    "length = 40\n",
    "tot_points = layers*segments\n",
    "\n",
    "\n",
    "Mx = simple_method(length, tot_points)\n",
    "\n",
    "res_conc = np.exp(-Mx.x)\n",
    "beta = np.exp(-Mx.x**2)+0.001\n",
    "lam = ca.MX.sym('lam', 2)\n",
    "\n",
    "sigma = ca.MX.sym('sigma', Mx.x.shape[0])\n",
    "sigma_p = ca.MX.sym('sigma_p', Mx.x.shape[0])\n",
    "sigma_bar = ca.MX.sym('sigma_bar', Mx.x.shape[0])\n",
    "inte = np.ones(tot_points).reshape(1,tot_points) \n",
    "\n",
    "gamma0 = 1\n",
    "gamma1 = 1\n",
    "gamma2 = 2\n",
    "gamma3 = 1\n",
    "gamma4 = 1\n",
    "gamma5 = 0.5\n",
    "\n",
    "df1 = (res_conc* gamma1/(gamma0*inte @ (Mx.M @ (sigma*res_conc)) + gamma1)**2-sigma_p*beta/(gamma2+gamma3*inte @ (Mx.M @ (sigma*beta*sigma_p)))) - lam[0]*np.ones(tot_points)\n",
    "df2 = (gamma4*sigma*beta/(gamma3*inte @ (Mx.M @ (sigma*beta*sigma_p))+gamma4)**2) - lam[1]*np.ones(tot_points)\n",
    "\n",
    "g1 = inte @ Mx.M @ (df1*sigma) + inte @ Mx.M @ (df2*sigma_p) #\n",
    "g2 = inte @ Mx.M @ sigma_p - 1\n",
    "g3 = inte @ Mx.M @ sigma - 1\n",
    "g4 = ca.vertcat(-df1, -df2)\n",
    "g = ca.vertcat(g1, g2, g3, g4)\n",
    "\n",
    "f = 0"
   ]
  },
  {
   "cell_type": "code",
   "execution_count": 51,
   "metadata": {},
   "outputs": [],
   "source": [
    "import time as time"
   ]
  },
  {
   "cell_type": "code",
   "execution_count": 58,
   "metadata": {},
   "outputs": [
    {
     "name": "stdout",
     "output_type": "stream",
     "text": [
      "      solver  :   t_proc      (avg)   t_wall      (avg)    n_eval\n",
      "       nlp_f  | 383.00us ( 34.82us)  53.03us (  4.82us)        11\n",
      "       nlp_g  |  13.12ms (  1.19ms)   2.00ms (181.93us)        11\n",
      "  nlp_grad_f  | 464.00us ( 38.67us)  82.04us (  6.84us)        12\n",
      "   nlp_jac_g  | 304.31ms ( 25.36ms)  50.48ms (  4.21ms)        12\n",
      "       total  |   1.14 s (  1.14 s) 179.68ms (179.68ms)         1\n",
      "Solved 0.264693021774292\n"
     ]
    },
    {
     "data": {
      "text/plain": [
       "[<matplotlib.lines.Line2D at 0x7f34ecb7b450>]"
      ]
     },
     "execution_count": 58,
     "metadata": {},
     "output_type": "execute_result"
    },
    {
     "data": {
      "image/png": "[encoded data removed]",
      "text/plain": [
       "<Figure size 432x288 with 1 Axes>"
      ]
     },
     "metadata": {
      "needs_background": "light"
     },
     "output_type": "display_data"
    }
   ],
   "source": [
    "sigmas = ca.vertcat(sigma, sigma_p)\n",
    "x = ca.vertcat(*[sigmas, lam])\n",
    "lbg = np.zeros(3 + sigmas.size()[0])\n",
    "ubg = ca.vertcat(*[np.zeros(3), [ca.inf]*sigmas.size()[0]])\n",
    "\n",
    "s_opts = {'ipopt': {'print_level' : 1, 'linear_solver':'ma57', 'hessian_approximation':'limited-memory', 'acceptable_iter': 5} }#, 'tol':10**-3, 'acceptable_tol': 10**(-2)}}\n",
    "prob = {'x': x, 'f': f, 'g': g}\n",
    "lbx = ca.vertcat(*[np.zeros(x.size()[0] - 2), -ca.inf, -ca.inf])\n",
    "ubx = ca.vertcat(*[(x.size()[0])*[ca.inf]])\n",
    "\n",
    "t0 = time.time()\n",
    "solver = ca.nlpsol('solver', 'ipopt', prob, s_opts)\n",
    "sol = solver(lbx = lbx, lbg = lbg, ubg = ubg, x0=x_out)\n",
    "t1 = time.time()\n",
    "\n",
    "print(\"Solved\", t1-t0)\n",
    "x_out = np.array(sol['x']).flatten()\n",
    "#print(x_out)\n",
    "plt.plot(Mx.x, x_out[0:tot_points])\n",
    "plt.plot(Mx.x, x_out[tot_points:2*tot_points])"
   ]
  },
  {
   "cell_type": "code",
   "execution_count": 85,
   "metadata": {},
   "outputs": [
    {
     "data": {
      "text/plain": [
       "array([0.12146866, 0.15256563])"
      ]
     },
     "execution_count": 85,
     "metadata": {},
     "output_type": "execute_result"
    }
   ],
   "source": [
    "x_out[-2:]"
   ]
  },
  {
   "cell_type": "code",
   "execution_count": 86,
   "metadata": {},
   "outputs": [
    {
     "data": {
      "text/plain": [
       "array([2.31076475e-01, 2.59183571e-01, 3.65696588e-01, 6.48800268e-01,\n",
       "       1.44524272e+00, 6.33589207e-08, 2.42368018e-08, 1.48024776e-08,\n",
       "       1.07673343e-08, 8.61836897e-09, 7.34225074e-09, 6.53554965e-09,\n",
       "       6.00539132e-09, 5.64805571e-09, 5.40309201e-09, 5.23320909e-09,\n",
       "       5.11444860e-09, 5.03096157e-09, 4.97204080e-09, 4.93034249e-09,\n",
       "       4.90077479e-09, 4.87977965e-09, 4.86485696e-09, 4.85424297e-09,\n",
       "       4.84668984e-09, 4.84131298e-09, 4.83748439e-09, 4.83475775e-09,\n",
       "       4.83281565e-09, 4.83143222e-09, 4.83044669e-09, 4.82974459e-09,\n",
       "       4.82924439e-09, 4.82888802e-09, 4.82863412e-09, 4.82845322e-09,\n",
       "       4.82832433e-09, 4.82823250e-09, 4.82816708e-09, 4.82812046e-09,\n",
       "       4.82808725e-09, 4.82806358e-09, 4.82804672e-09, 4.82803471e-09,\n",
       "       4.82802615e-09, 4.82802005e-09, 4.82801571e-09, 4.82801261e-09,\n",
       "       4.82801040e-09, 4.82800883e-09, 4.82800771e-09, 4.82800692e-09,\n",
       "       4.82800635e-09, 4.82800594e-09, 4.82800565e-09, 4.82800545e-09,\n",
       "       4.82800530e-09, 4.82800520e-09, 4.82800512e-09, 1.93761504e-08,\n",
       "       1.04167447e+00, 7.25583121e-01, 5.78623777e-01, 4.63873507e-01,\n",
       "       1.40245087e-01, 6.86919787e-10, 6.96648655e-10, 6.98825017e-10,\n",
       "       6.99194488e-10, 6.99257540e-10, 6.99270932e-10, 6.99275919e-10,\n",
       "       6.99278774e-10, 6.99280646e-10, 6.99281917e-10, 6.99282794e-10,\n",
       "       6.99283405e-10, 6.99283833e-10, 6.99284135e-10, 6.99284348e-10,\n",
       "       6.99284499e-10, 6.99284606e-10, 6.99284682e-10, 6.99284736e-10,\n",
       "       6.99284775e-10, 6.99284802e-10, 6.99284822e-10, 6.99284835e-10,\n",
       "       6.99284845e-10, 6.99284852e-10, 6.99284857e-10, 6.99284861e-10,\n",
       "       6.99284863e-10, 6.99284865e-10, 6.99284867e-10, 6.99284867e-10,\n",
       "       6.99284868e-10, 6.99284869e-10, 6.99284869e-10, 6.99284869e-10,\n",
       "       6.99284869e-10, 6.99284869e-10, 6.99284870e-10, 6.99284870e-10,\n",
       "       6.99284870e-10, 6.99284870e-10, 6.99284870e-10, 6.99284870e-10,\n",
       "       6.99284870e-10, 6.99284870e-10, 6.99284870e-10, 6.99284870e-10,\n",
       "       6.99284870e-10, 6.99284870e-10, 6.99284870e-10, 6.99284870e-10,\n",
       "       6.99284870e-10, 6.99284870e-10, 6.99284870e-10, 1.14916800e-08,\n",
       "       1.21468665e-01, 1.52565629e-01])"
      ]
     },
     "execution_count": 86,
     "metadata": {},
     "output_type": "execute_result"
    }
   ],
   "source": [
    "x_out"
   ]
  },
  {
   "cell_type": "code",
   "execution_count": 79,
   "metadata": {},
   "outputs": [
    {
     "data": {
      "text/plain": [
       "array([200.])"
      ]
     },
     "execution_count": 79,
     "metadata": {},
     "output_type": "execute_result"
    }
   ],
   "source": [
    "inte @ (Mx.M @ Mx.x)"
   ]
  },
  {
   "cell_type": "code",
   "execution_count": 80,
   "metadata": {},
   "outputs": [
    {
     "data": {
      "text/plain": [
       "array([1.])"
      ]
     },
     "execution_count": 80,
     "metadata": {},
     "output_type": "execute_result"
    }
   ],
   "source": [
    "inte @ Mx.M @ (x_out[0:tot_points])"
   ]
  },
  {
   "cell_type": "code",
   "execution_count": 81,
   "metadata": {},
   "outputs": [
    {
     "data": {
      "text/plain": [
       "array([1.])"
      ]
     },
     "execution_count": 81,
     "metadata": {},
     "output_type": "execute_result"
    }
   ],
   "source": [
    "inte @ Mx.M @ (x_out[0:tot_points])"
   ]
  },
  {
   "cell_type": "code",
   "execution_count": 82,
   "metadata": {},
   "outputs": [
    {
     "data": {
      "text/plain": [
       "array([1.])"
      ]
     },
     "execution_count": 82,
     "metadata": {},
     "output_type": "execute_result"
    }
   ],
   "source": [
    "inte @ Mx.M @ (x_out[tot_points:2*tot_points])"
   ]
  },
  {
   "cell_type": "code",
   "execution_count": 83,
   "metadata": {},
   "outputs": [
    {
     "data": {
      "text/plain": [
       "array([1.04167447e+00, 7.25583121e-01, 5.78623777e-01, 4.63873507e-01,\n",
       "       1.40245087e-01, 6.86919787e-10, 6.96648655e-10, 6.98825017e-10,\n",
       "       6.99194488e-10, 6.99257540e-10, 6.99270932e-10, 6.99275919e-10,\n",
       "       6.99278774e-10, 6.99280646e-10, 6.99281917e-10, 6.99282794e-10,\n",
       "       6.99283405e-10, 6.99283833e-10, 6.99284135e-10, 6.99284348e-10,\n",
       "       6.99284499e-10, 6.99284606e-10, 6.99284682e-10, 6.99284736e-10,\n",
       "       6.99284775e-10, 6.99284802e-10, 6.99284822e-10, 6.99284835e-10,\n",
       "       6.99284845e-10, 6.99284852e-10, 6.99284857e-10, 6.99284861e-10,\n",
       "       6.99284863e-10, 6.99284865e-10, 6.99284867e-10, 6.99284867e-10,\n",
       "       6.99284868e-10, 6.99284869e-10, 6.99284869e-10, 6.99284869e-10,\n",
       "       6.99284869e-10, 6.99284869e-10, 6.99284870e-10, 6.99284870e-10,\n",
       "       6.99284870e-10, 6.99284870e-10, 6.99284870e-10, 6.99284870e-10,\n",
       "       6.99284870e-10, 6.99284870e-10, 6.99284870e-10, 6.99284870e-10,\n",
       "       6.99284870e-10, 6.99284870e-10, 6.99284870e-10, 6.99284870e-10,\n",
       "       6.99284870e-10, 6.99284870e-10, 6.99284870e-10, 1.14916800e-08])"
      ]
     },
     "execution_count": 83,
     "metadata": {},
     "output_type": "execute_result"
    }
   ],
   "source": [
    "x_out[tot_points:2*tot_points]"
   ]
  }
 ],
 "metadata": {
  "kernelspec": {
   "display_name": "Python 3",
   "language": "python",
   "name": "python3"
  },
  "language_info": {
   "codemirror_mode": {
    "name": "ipython",
    "version": 3
   },
   "file_extension": ".py",
   "mimetype": "text/x-python",
   "name": "python",
   "nbconvert_exporter": "python",
   "pygments_lexer": "ipython3",
   "version": "3.7.3"
  }
 },
 "nbformat": 4,
 "nbformat_minor": 2
}
