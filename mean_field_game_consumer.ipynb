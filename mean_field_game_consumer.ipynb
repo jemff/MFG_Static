{
 "cells": [
  {
   "cell_type": "code",
   "execution_count": 1,
   "metadata": {},
   "outputs": [],
   "source": [
    "import casadi as ca\n",
    "import numpy as np"
   ]
  },
  {
   "cell_type": "code",
   "execution_count": 7,
   "metadata": {},
   "outputs": [],
   "source": [
    "mu = ca.SX.sym('mu', 1)\n",
    "one = 1\n",
    "sigma = ca.SX.sym('sigma', 1)\n",
    "sigma_bar = ca.SX.sym('sigma_bar', 1)\n",
    "\n",
    "gamma0 = 1\n",
    "gamma1 = 1\n",
    "gamma2 = 1\n",
    "gamma3 = 1\n",
    "\n",
    "df = gamma1/(gamma0*sigma+gamma1)**2-0.8/(gamma2+gamma3*sigma_bar)\n",
    "w0 = 1 - sigma\n",
    "g1 = df + mu\n",
    "g2 = sigma - sigma_bar\n",
    "g = ca.vertcat(g1, g2, w0)\n",
    "\n",
    "f = (mu*w0)"
   ]
  },
  {
   "cell_type": "code",
   "execution_count": 8,
   "metadata": {},
   "outputs": [
    {
     "name": "stdout",
     "output_type": "stream",
     "text": [
      "This is Ipopt version 3.13.4, running with linear solver mumps.\n",
      "NOTE: Other linear solvers might be more efficient (see Ipopt documentation).\n",
      "\n",
      "Number of nonzeros in equality constraint Jacobian...:        5\n",
      "Number of nonzeros in inequality constraint Jacobian.:        1\n",
      "Number of nonzeros in Lagrangian Hessian.............:        3\n",
      "\n",
      "Total number of variables............................:        3\n",
      "                     variables with only lower bounds:        3\n",
      "                variables with lower and upper bounds:        0\n",
      "                     variables with only upper bounds:        0\n",
      "Total number of equality constraints.................:        2\n",
      "Total number of inequality constraints...............:        1\n",
      "        inequality constraints with only lower bounds:        1\n",
      "   inequality constraints with lower and upper bounds:        0\n",
      "        inequality constraints with only upper bounds:        0\n",
      "\n",
      "iter    objective    inf_pr   inf_du lg(mu)  ||d||  lg(rg) alpha_du alpha_pr  ls\n",
      "   0  9.8999902e-03 1.98e-01 2.72e-01  -1.0 0.00e+00    -  0.00e+00 0.00e+00   0\n",
      "   1  9.8164099e-05 1.79e-01 6.37e-01  -1.7 1.01e-01    -  1.34e-01 9.82e-02h  1\n",
      "   2  6.6661004e-03 4.53e-02 1.46e+00  -1.7 1.67e-01    -  8.80e-01 1.00e+00f  1\n",
      "   3  4.5406140e-02 2.47e-02 1.11e+00  -1.7 1.70e-01    -  5.51e-01 1.00e+00h  1\n",
      "   4  3.6738780e-02 9.19e-04 1.28e-01  -1.7 4.11e-02    -  1.00e+00 1.00e+00h  1\n",
      "   5  1.3574546e-04 2.16e-02 5.33e-02  -2.5 3.24e-01    -  7.02e-01 5.72e-01h  1\n",
      "   6  2.9133837e-03 1.70e-03 1.11e-02  -2.5 4.36e-02    -  1.00e+00 1.00e+00h  1\n",
      "   7  4.4942334e-05 1.46e-05 2.39e-04  -3.8 4.25e-03    -  1.00e+00 1.00e+00h  1\n",
      "   8  1.7236029e-06 5.78e-09 3.91e-07  -5.7 8.40e-05    -  1.00e+00 1.00e+00h  1\n",
      "   9 -5.0709229e-09 1.65e-11 3.18e-10  -8.6 4.49e-06    -  1.00e+00 1.00e+00h  1\n",
      "\n",
      "Number of Iterations....: 9\n",
      "\n",
      "                                   (scaled)                 (unscaled)\n",
      "Objective...............:  -5.0709229410551416e-09   -5.0709229410551416e-09\n",
      "Dual infeasibility......:   3.1831021268766968e-10    3.1831021268766968e-10\n",
      "Constraint violation....:   1.6519115062115213e-11    1.6519115062115213e-11\n",
      "Complementarity.........:   2.5399379099529915e-09    2.5399379099529915e-09\n",
      "Overall NLP error.......:   2.5399379099529915e-09    2.5399379099529915e-09\n",
      "\n",
      "\n",
      "Number of objective function evaluations             = 10\n",
      "Number of objective gradient evaluations             = 10\n",
      "Number of equality constraint evaluations            = 10\n",
      "Number of inequality constraint evaluations          = 10\n",
      "Number of equality constraint Jacobian evaluations   = 10\n",
      "Number of inequality constraint Jacobian evaluations = 10\n",
      "Number of Lagrangian Hessian evaluations             = 9\n",
      "Total CPU secs in IPOPT (w/o function evaluations)   =      0.008\n",
      "Total CPU secs in NLP function evaluations           =      0.000\n",
      "\n",
      "EXIT: Optimal Solution Found.\n",
      "      solver  :   t_proc      (avg)   t_wall      (avg)    n_eval\n",
      "       nlp_f  |  17.00us (  1.70us)  17.74us (  1.77us)        10\n",
      "       nlp_g  |  32.00us (  3.20us)  28.64us (  2.86us)        10\n",
      "  nlp_grad_f  |  23.00us (  2.09us)  21.96us (  2.00us)        11\n",
      "  nlp_hess_l  |  20.00us (  2.22us)  19.54us (  2.17us)         9\n",
      "   nlp_jac_g  |  20.00us (  1.82us)  20.54us (  1.87us)        11\n",
      "       total  |   9.08ms (  9.08ms)   8.29ms (  8.29ms)         1\n",
      "Solved\n",
      "0.24999998676220805\n"
     ]
    }
   ],
   "source": [
    "y = ca.vertcat(sigma, sigma_bar)\n",
    "#y = sigma_bar\n",
    "x = ca.vertcat(*[y, mu])\n",
    "lbg = np.zeros(3)\n",
    "ubg = ca.vertcat(0, 0, ca.inf)\n",
    "s_opts = {'ipopt': {'print_level' : 5}}\n",
    "prob = {'x': x, 'f': f, 'g': g}\n",
    "lbx = np.zeros(3)\n",
    "solver = ca.nlpsol('solver', 'ipopt', prob, s_opts)\n",
    "\n",
    "sol = solver(lbx = lbx, lbg = lbg, ubg = ubg) #ubg=ubg\n",
    "print(\"Solved\")\n",
    "x_out = np.array(sol['x']).flatten()\n",
    "print(x_out[0])"
   ]
  }
 ],
 "metadata": {
  "kernelspec": {
   "display_name": "Python 3",
   "language": "python",
   "name": "python3"
  },
  "language_info": {
   "codemirror_mode": {
    "name": "ipython",
    "version": 3
   },
   "file_extension": ".py",
   "mimetype": "text/x-python",
   "name": "python",
   "nbconvert_exporter": "python",
   "pygments_lexer": "ipython3",
   "version": "3.7.8"
  }
 },
 "nbformat": 4,
 "nbformat_minor": 2
}
