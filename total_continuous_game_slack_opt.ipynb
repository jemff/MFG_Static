{
 "cells": [
  {
   "cell_type": "code",
   "execution_count": 1,
   "metadata": {},
   "outputs": [],
   "source": [
    "import numpy as np\n",
    "import casadi as ca\n",
    "import matplotlib.pyplot as plt\n"
   ]
  },
  {
   "cell_type": "code",
   "execution_count": 2,
   "metadata": {},
   "outputs": [],
   "source": [
    "class simple_method:\n",
    "    def __init__(self, depth, total_points):\n",
    "\n",
    "        tot_points = total_points\n",
    "        \n",
    "        self.x = np.linspace(0,depth,tot_points) \n",
    "\n",
    "        self.M = depth/(tot_points-1) * 0.5 * (np.identity(tot_points)+ np.diag(np.ones(tot_points -1), -1))"
   ]
  },
  {
   "cell_type": "code",
   "execution_count": 3,
   "metadata": {},
   "outputs": [],
   "source": [
    "layers = 5\n",
    "segments = 20\n",
    "length = 30\n",
    "tot_points = layers*segments\n",
    "\n",
    "\n",
    "Mx = simple_method(length, tot_points)\n",
    "\n",
    "res_conc = np.exp(-Mx.x)\n",
    "beta = np.exp(-Mx.x**2)+0.001\n",
    "mu1 = ca.SX.sym('mu', Mx.x.shape[0])\n",
    "mu2 = ca.SX.sym('mu', Mx.x.shape[0])\n",
    "lam = ca.SX.sym('lam', 2)\n",
    "sigma = ca.SX.sym('sigma', Mx.x.shape[0])\n",
    "sigma_p = ca.SX.sym('sigma_p', Mx.x.shape[0])\n",
    "sigma_bar = ca.SX.sym('sigma_bar', Mx.x.shape[0])\n",
    "inte = np.ones(tot_points).reshape(1,tot_points) \n",
    "\n",
    "gamma0 = 1\n",
    "gamma1 = 1\n",
    "gamma2 = 2\n",
    "gamma3 = 1\n",
    "gamma4 = 1\n",
    "gamma5 = 0.5\n",
    "\n",
    "df1 = (res_conc* gamma1/(gamma0*inte @ (Mx.M @ (sigma*res_conc)) + gamma1)**2-sigma_p*beta/(gamma2+gamma3*inte @ (Mx.M @ (sigma*beta*sigma_p)))) - lam[0]*np.ones(tot_points)\n",
    "df2 = (gamma4*sigma*beta/(gamma3*inte @ (Mx.M @ (sigma*beta*sigma_p))+gamma4)**2) - lam[1]*np.ones(tot_points)\n",
    "\n",
    "df = ca.vertcat(df1, df2)\n",
    "g1 = df + ca.vertcat(mu1, mu2)\n",
    "g2 = inte @ Mx.M @ sigma_p - 1\n",
    "g3 = inte @ Mx.M @ sigma - 1\n",
    "g = ca.vertcat(g1, g2, g3)\n",
    "\n",
    "f = inte @ Mx.M @ (sigma*mu1) + inte @ Mx.M @ (sigma_p * mu2)"
   ]
  },
  {
   "cell_type": "code",
   "execution_count": 8,
   "metadata": {},
   "outputs": [
    {
     "data": {
      "text/plain": [
       "array([0.        , 0.        , 0.        , 0.        , 0.        ,\n",
       "       0.        , 0.02608328, 0.0494191 , 0.0666544 , 0.07938399,\n",
       "       0.08878577, 0.09572971, 0.10085834, 0.10464622, 0.10744387,\n",
       "       0.10951014, 0.11103624, 0.11216339, 0.11299587, 0.11361072,\n",
       "       0.11406484, 0.11440024, 0.11464795, 0.11483091, 0.11496604,\n",
       "       0.11506584, 0.11513956, 0.115194  , 0.11523421, 0.11526391,\n",
       "       0.11528584, 0.11530204, 0.11531401, 0.11532284, 0.11532937,\n",
       "       0.11533419, 0.11533775, 0.11534038, 0.11534232, 0.11534376,\n",
       "       0.11534482, 0.1153456 , 0.11534618, 0.1153466 , 0.11534692,\n",
       "       0.11534715, 0.11534732, 0.11534745, 0.11534754, 0.11534761,\n",
       "       0.11534766, 0.1153477 , 0.11534773, 0.11534775, 0.11534777,\n",
       "       0.11534778, 0.11534779, 0.11534779, 0.1153478 , 0.1153478 ,\n",
       "       0.1153478 , 0.1153478 , 0.11534781, 0.11534781, 0.11534781,\n",
       "       0.11534781, 0.11534781, 0.11534781, 0.11534781, 0.11534781,\n",
       "       0.11534781, 0.11534781, 0.11534781, 0.11534781, 0.11534781,\n",
       "       0.11534781, 0.11534781, 0.11534781, 0.11534781, 0.11534781,\n",
       "       0.11534781, 0.11534781, 0.11534781, 0.11534781, 0.11534781,\n",
       "       0.11534781, 0.11534781, 0.11534781, 0.11534781, 0.11534781,\n",
       "       0.11534781, 0.11534781, 0.11534781, 0.11534781, 0.11534781,\n",
       "       0.11534781, 0.11534781, 0.11534781, 0.11534781, 0.11534781,\n",
       "       0.        , 0.        , 0.        , 0.        , 0.        ,\n",
       "       0.        , 0.12167451, 0.12167451, 0.12167451, 0.12167451,\n",
       "       0.12167451, 0.12167451, 0.12167451, 0.12167451, 0.12167451,\n",
       "       0.12167451, 0.12167451, 0.12167451, 0.12167451, 0.12167451,\n",
       "       0.12167451, 0.12167451, 0.12167451, 0.12167451, 0.12167451,\n",
       "       0.12167451, 0.12167451, 0.12167451, 0.12167451, 0.12167451,\n",
       "       0.12167451, 0.12167451, 0.12167451, 0.12167451, 0.12167451,\n",
       "       0.12167451, 0.12167451, 0.12167451, 0.12167451, 0.12167451,\n",
       "       0.12167451, 0.12167451, 0.12167451, 0.12167451, 0.12167451,\n",
       "       0.12167451, 0.12167451, 0.12167451, 0.12167451, 0.12167451,\n",
       "       0.12167451, 0.12167451, 0.12167451, 0.12167451, 0.12167451,\n",
       "       0.12167451, 0.12167451, 0.12167451, 0.12167451, 0.12167451,\n",
       "       0.12167451, 0.12167451, 0.12167451, 0.12167451, 0.12167451,\n",
       "       0.12167451, 0.12167451, 0.12167451, 0.12167451, 0.12167451,\n",
       "       0.12167451, 0.12167451, 0.12167451, 0.12167451, 0.12167451,\n",
       "       0.12167451, 0.12167451, 0.12167451, 0.12167451, 0.12167451,\n",
       "       0.12167451, 0.12167451, 0.12167451, 0.12167451, 0.12167451,\n",
       "       0.12167451, 0.12167451, 0.12167451, 0.12167451, 0.12167451,\n",
       "       0.12167451, 0.12167451, 0.12167451, 0.12167451, 0.12167451,\n",
       "       0.12167451, 0.12167451, 0.12167451, 0.12167451, 0.12167451])"
      ]
     },
     "execution_count": 8,
     "metadata": {},
     "output_type": "execute_result"
    }
   ],
   "source": [
    "x_out[2*tot_points:4*tot_points]"
   ]
  },
  {
   "cell_type": "code",
   "execution_count": 4,
   "metadata": {},
   "outputs": [],
   "source": [
    "import time as time"
   ]
  },
  {
   "cell_type": "code",
   "execution_count": 7,
   "metadata": {},
   "outputs": [
    {
     "name": "stdout",
     "output_type": "stream",
     "text": [
      "\n",
      "******************************************************************************\n",
      "This program contains Ipopt, a library for large-scale nonlinear optimization.\n",
      " Ipopt is released as open source code under the Eclipse Public License (EPL).\n",
      "         For more information visit http://projects.coin-or.org/Ipopt\n",
      "******************************************************************************\n",
      "\n",
      "      solver  :   t_proc      (avg)   t_wall      (avg)    n_eval\n",
      "       nlp_f  | 167.00us (  5.22us) 163.77us (  5.12us)        32\n",
      "       nlp_g  | 534.00us ( 16.69us) 514.71us ( 16.08us)        32\n",
      "  nlp_grad_f  | 251.00us (  7.61us) 246.21us (  7.46us)        33\n",
      "   nlp_jac_g  |  11.51ms (348.82us)  11.46ms (347.32us)        33\n",
      "       total  | 570.93ms (570.93ms) 582.44ms (582.44ms)         1\n",
      "Solved 0.7517335414886475\n"
     ]
    },
    {
     "data": {
      "text/plain": [
       "[<matplotlib.lines.Line2D at 0x7fd3c1501c50>]"
      ]
     },
     "execution_count": 7,
     "metadata": {},
     "output_type": "execute_result"
    },
    {
     "data": {
      "image/png": "[encoded data removed]",
      "text/plain": [
       "<Figure size 432x288 with 1 Axes>"
      ]
     },
     "metadata": {
      "needs_background": "light"
     },
     "output_type": "display_data"
    }
   ],
   "source": [
    "sigmas = ca.vertcat(sigma, sigma_p)\n",
    "x = ca.vertcat(*[sigmas, mu1, mu2, lam])\n",
    "lbg = np.zeros(2*(tot_points + 1))\n",
    "ubg = np.zeros(2*(tot_points + 1))\n",
    "\n",
    "s_opts = {'ipopt': {'print_level' : 1, 'linear_solver':'mumps', 'hessian_approximation':'limited-memory', 'jac_d_constant':'yes', 'acceptable_iter': 5} }#, 'tol':10**-3, 'acceptable_tol': 10**(-2)}}\n",
    "prob = {'x': x, 'f': f, 'g': g}\n",
    "lbx = ca.vertcat(*[np.zeros(x.size()[0] - 2), -ca.inf, -ca.inf])\n",
    "\n",
    "t0 = time.time()\n",
    "solver = ca.nlpsol('solver', 'ipopt', prob, s_opts)\n",
    "sol = solver(lbx = lbx, lbg = lbg, ubg = ubg)\n",
    "t1 = time.time()\n",
    "\n",
    "print(\"Solved\", t1-t0)\n",
    "x_out = np.array(sol['x']).flatten()\n",
    "#print(x_out)\n",
    "plt.plot(Mx.x, x_out[0:tot_points])\n",
    "plt.plot(Mx.x, x_out[tot_points:2*tot_points])"
   ]
  },
  {
   "cell_type": "code",
   "execution_count": 145,
   "metadata": {
    "scrolled": false
   },
   "outputs": [
    {
     "name": "stdout",
     "output_type": "stream",
     "text": [
      "      solver  :   t_proc      (avg)   t_wall      (avg)    n_eval\n",
      "       nlp_f  |   2.99ms ( 69.51us) 381.19us (  8.86us)        43\n",
      "       nlp_g  |   8.58ms (199.51us)   1.07ms ( 24.92us)        43\n",
      "  nlp_grad_f  |   4.56ms (103.73us) 596.53us ( 13.56us)        44\n",
      "  nlp_hess_l  | 942.64ms ( 22.44ms) 119.47ms (  2.84ms)        42\n",
      "   nlp_jac_g  | 207.76ms (  4.72ms)  27.05ms (614.75us)        44\n",
      "       total  |   3.45 s (  3.45 s) 441.41ms (441.41ms)         1\n",
      "Solved 1.8632652759552002\n"
     ]
    },
    {
     "data": {
      "text/plain": [
       "[<matplotlib.lines.Line2D at 0x7f4a182abf50>]"
      ]
     },
     "execution_count": 145,
     "metadata": {},
     "output_type": "execute_result"
    },
    {
     "data": {
      "image/png": "[encoded data removed]",
      "text/plain": [
       "<Figure size 432x288 with 1 Axes>"
      ]
     },
     "metadata": {
      "needs_background": "light"
     },
     "output_type": "display_data"
    }
   ],
   "source": [
    "sigmas = ca.vertcat(sigma, sigma_p)\n",
    "x = ca.vertcat(*[sigmas, mu1, mu2, lam])\n",
    "lbg = np.zeros(2*(tot_points + 1))\n",
    "ubg = np.zeros(2*(tot_points + 1))\n",
    "s_opts = {'ipopt': {'print_level' : 1, 'linear_solver':'ma57'}}\n",
    "prob = {'x': x, 'f': f, 'g': g}\n",
    "lbx = ca.vertcat(*[np.zeros(x.size()[0] - 2), -ca.inf, -ca.inf])\n",
    "\n",
    "t0 = time.time()\n",
    "solver = ca.nlpsol('solver', 'ipopt', prob, s_opts)\n",
    "sol = solver(lbx = lbx, lbg = lbg, ubg = ubg)\n",
    "t1 = time.time()\n",
    "print(\"Solved\", t1-t0)\n",
    "x_out = np.array(sol['x']).flatten()\n",
    "#print(x_out)\n",
    "plt.plot(Mx.x, x_out[0:tot_points])\n",
    "plt.plot(Mx.x, x_out[tot_points:2*tot_points])"
   ]
  },
  {
   "cell_type": "code",
   "execution_count": 65,
   "metadata": {},
   "outputs": [
    {
     "name": "stdout",
     "output_type": "stream",
     "text": [
      "      solver  :   t_proc      (avg)   t_wall      (avg)    n_eval\n",
      "       nlp_f  | 628.00us (  9.97us) 635.45us ( 10.09us)        63\n",
      "       nlp_g  |   6.88ms (109.14us)   6.84ms (108.59us)        63\n",
      "  nlp_grad_f  |   1.14ms ( 17.83us)   1.04ms ( 16.25us)        64\n",
      "  nlp_hess_l  |   2.55 s ( 41.10ms)   2.53 s ( 40.88ms)        62\n",
      "   nlp_jac_g  | 183.72ms (  2.87ms) 182.77ms (  2.86ms)        64\n",
      "       total  |  13.82 s ( 13.82 s)  13.74 s ( 13.74 s)         1\n",
      "Solved 91.29399824142456\n"
     ]
    },
    {
     "data": {
      "text/plain": [
       "[<matplotlib.lines.Line2D at 0x7f4a1d7d5750>]"
      ]
     },
     "execution_count": 65,
     "metadata": {},
     "output_type": "execute_result"
    },
    {
     "data": {
      "image/png": "[encoded data removed]",
      "text/plain": [
       "<Figure size 432x288 with 1 Axes>"
      ]
     },
     "metadata": {
      "needs_background": "light"
     },
     "output_type": "display_data"
    }
   ],
   "source": [
    "sigmas = ca.vertcat(sigma, sigma_p)\n",
    "x = ca.vertcat(*[sigmas, mu1, mu2, lam])\n",
    "lbg = np.zeros(2*(tot_points + 1))\n",
    "ubg = np.zeros(2*(tot_points + 1))\n",
    "\n",
    "s_opts = {'ipopt': {'print_level' : 1, 'linear_solver':'ma27'}}\n",
    "prob = {'x': x, 'f': f, 'g': g}\n",
    "lbx = ca.vertcat(*[np.zeros(x.size()[0] - 2), -ca.inf, -ca.inf])\n",
    "\n",
    "t0 = time.time()\n",
    "solver = ca.nlpsol('solver', 'ipopt', prob, s_opts)\n",
    "sol = solver(lbx = lbx, lbg = lbg, ubg = ubg)\n",
    "t1 = time.time()\n",
    "\n",
    "print(\"Solved\", t1-t0)\n",
    "x_out = np.array(sol['x']).flatten()\n",
    "#print(x_out)\n",
    "plt.plot(Mx.x, x_out[0:tot_points])\n",
    "plt.plot(Mx.x, x_out[tot_points:2*tot_points])"
   ]
  },
  {
   "cell_type": "code",
   "execution_count": 55,
   "metadata": {},
   "outputs": [
    {
     "data": {
      "text/plain": [
       "[<matplotlib.lines.Line2D at 0x7f4a1dc17810>]"
      ]
     },
     "execution_count": 55,
     "metadata": {},
     "output_type": "execute_result"
    },
    {
     "data": {
      "image/png": "[encoded data removed]",
      "text/plain": [
       "<Figure size 432x288 with 1 Axes>"
      ]
     },
     "metadata": {
      "needs_background": "light"
     },
     "output_type": "display_data"
    }
   ],
   "source": [
    "plt.plot(Mx.x, Mx.D @ x_out[0:tot_points])"
   ]
  },
  {
   "cell_type": "code",
   "execution_count": 56,
   "metadata": {},
   "outputs": [
    {
     "data": {
      "text/plain": [
       "[<matplotlib.lines.Line2D at 0x7f4a1db9fdd0>]"
      ]
     },
     "execution_count": 56,
     "metadata": {},
     "output_type": "execute_result"
    },
    {
     "data": {
      "image/png": "[encoded data removed]",
      "text/plain": [
       "<Figure size 432x288 with 1 Axes>"
      ]
     },
     "metadata": {
      "needs_background": "light"
     },
     "output_type": "display_data"
    }
   ],
   "source": [
    "plt.plot(Mx.x, Mx.D @ x_out[tot_points:2*tot_points])"
   ]
  },
  {
   "cell_type": "code",
   "execution_count": 9,
   "metadata": {},
   "outputs": [
    {
     "data": {
      "text/plain": [
       "array([0.09074956, 0.06184802])"
      ]
     },
     "execution_count": 9,
     "metadata": {},
     "output_type": "execute_result"
    }
   ],
   "source": [
    "x_out[-2:]"
   ]
  },
  {
   "cell_type": "code",
   "execution_count": 10,
   "metadata": {},
   "outputs": [
    {
     "data": {
      "text/plain": [
       "[<matplotlib.lines.Line2D at 0x7f4a27626cd0>]"
      ]
     },
     "execution_count": 10,
     "metadata": {},
     "output_type": "execute_result"
    },
    {
     "data": {
      "image/png": "[encoded data removed]",
      "text/plain": [
       "<Figure size 432x288 with 1 Axes>"
      ]
     },
     "metadata": {
      "needs_background": "light"
     },
     "output_type": "display_data"
    }
   ],
   "source": [
    "plt.plot(Mx.x, x_out[0:tot_points])\n",
    "plt.plot(Mx.x, x_out[tot_points:2*tot_points])"
   ]
  },
  {
   "cell_type": "code",
   "execution_count": 11,
   "metadata": {},
   "outputs": [
    {
     "data": {
      "text/plain": [
       "array([450.])"
      ]
     },
     "execution_count": 11,
     "metadata": {},
     "output_type": "execute_result"
    }
   ],
   "source": [
    "inte @ (Mx.M @ Mx.x)"
   ]
  },
  {
   "cell_type": "code",
   "execution_count": 12,
   "metadata": {},
   "outputs": [
    {
     "data": {
      "text/plain": [
       "array([2.1939846e-07])"
      ]
     },
     "execution_count": 12,
     "metadata": {},
     "output_type": "execute_result"
    }
   ],
   "source": [
    "inte @ Mx.M @ (x_out[tot_points*2:tot_points*3] * x_out[0:tot_points])"
   ]
  },
  {
   "cell_type": "code",
   "execution_count": 13,
   "metadata": {},
   "outputs": [
    {
     "data": {
      "text/plain": [
       "array([1.])"
      ]
     },
     "execution_count": 13,
     "metadata": {},
     "output_type": "execute_result"
    }
   ],
   "source": [
    "inte @ Mx.M @ (x_out[0:tot_points])"
   ]
  },
  {
   "cell_type": "code",
   "execution_count": 14,
   "metadata": {},
   "outputs": [
    {
     "data": {
      "text/plain": [
       "array([1.])"
      ]
     },
     "execution_count": 14,
     "metadata": {},
     "output_type": "execute_result"
    }
   ],
   "source": [
    "inte @ Mx.M @ (x_out[tot_points:2*tot_points])"
   ]
  },
  {
   "cell_type": "code",
   "execution_count": 15,
   "metadata": {},
   "outputs": [
    {
     "data": {
      "text/plain": [
       "array([5.96182638e-01, 4.54809032e-01, 4.05666573e-01, 4.15879164e-01,\n",
       "       4.73011839e-01, 5.44086025e-01, 4.10353221e-01, 1.23672466e-07,\n",
       "       1.23674996e-07, 1.23675159e-07, 1.23675186e-07, 1.23675192e-07,\n",
       "       1.23675195e-07, 1.23675196e-07, 1.23675197e-07, 1.23675198e-07,\n",
       "       1.23675198e-07, 1.23675198e-07, 1.23675199e-07, 1.23675199e-07,\n",
       "       1.23675199e-07, 1.23675199e-07, 1.23675199e-07, 1.23675199e-07,\n",
       "       1.23675199e-07, 1.23675199e-07, 1.23675199e-07, 1.23675199e-07,\n",
       "       1.23675199e-07, 1.23675199e-07, 1.23675199e-07, 1.23675199e-07,\n",
       "       1.23675199e-07, 1.23675199e-07, 1.23675199e-07, 1.23675199e-07,\n",
       "       1.23675199e-07, 1.23675199e-07, 1.23675199e-07, 1.23675199e-07,\n",
       "       1.23675199e-07, 1.23675199e-07, 1.23675199e-07, 1.23675199e-07,\n",
       "       1.23675199e-07, 1.23675199e-07, 1.23675199e-07, 1.23675199e-07,\n",
       "       1.23675199e-07, 1.23675199e-07, 1.23675199e-07, 1.23675199e-07,\n",
       "       1.23675199e-07, 1.23675199e-07, 1.23675199e-07, 1.23675199e-07,\n",
       "       1.23675199e-07, 1.23675199e-07, 1.23675199e-07, 1.23675199e-07,\n",
       "       1.23675199e-07, 1.23675199e-07, 1.23675199e-07, 1.23675199e-07,\n",
       "       1.23675199e-07, 1.23675199e-07, 1.23675199e-07, 1.23675199e-07,\n",
       "       1.23675199e-07, 1.23675199e-07, 1.23675199e-07, 1.23675199e-07,\n",
       "       1.23675199e-07, 1.23675199e-07, 1.23675199e-07, 1.23675199e-07,\n",
       "       1.23675199e-07, 1.23675199e-07, 1.23675199e-07, 1.23675199e-07,\n",
       "       1.23675199e-07, 1.23675199e-07, 1.23675199e-07, 1.23675199e-07,\n",
       "       1.23675199e-07, 1.23675199e-07, 1.23675199e-07, 1.23675199e-07,\n",
       "       1.23675199e-07, 1.23675199e-07, 1.23675199e-07, 1.23675199e-07,\n",
       "       1.23675199e-07, 1.23675199e-07, 1.23675199e-07, 1.23675199e-07,\n",
       "       1.23675199e-07, 1.23675199e-07, 1.23675199e-07, 2.57350366e-07])"
      ]
     },
     "execution_count": 15,
     "metadata": {},
     "output_type": "execute_result"
    }
   ],
   "source": [
    "x_out[tot_points:2*tot_points]"
   ]
  },
  {
   "cell_type": "code",
   "execution_count": 16,
   "metadata": {},
   "outputs": [
    {
     "data": {
      "text/plain": [
       "array([3.87139468e-09, 8.18286642e-09, 1.03848413e-08, 9.88306718e-09,\n",
       "       7.47968265e-09, 5.19351855e-09, 1.01560910e-08, 6.18480129e-02,\n",
       "       6.18480187e-02, 6.18480193e-02, 6.18480194e-02, 6.18480194e-02,\n",
       "       6.18480194e-02, 6.18480194e-02, 6.18480194e-02, 6.18480194e-02,\n",
       "       6.18480194e-02, 6.18480194e-02, 6.18480194e-02, 6.18480194e-02,\n",
       "       6.18480194e-02, 6.18480194e-02, 6.18480194e-02, 6.18480194e-02,\n",
       "       6.18480194e-02, 6.18480194e-02, 6.18480194e-02, 6.18480194e-02,\n",
       "       6.18480194e-02, 6.18480194e-02, 6.18480194e-02, 6.18480194e-02,\n",
       "       6.18480194e-02, 6.18480194e-02, 6.18480194e-02, 6.18480194e-02,\n",
       "       6.18480194e-02, 6.18480194e-02, 6.18480194e-02, 6.18480194e-02,\n",
       "       6.18480194e-02, 6.18480194e-02, 6.18480194e-02, 6.18480194e-02,\n",
       "       6.18480194e-02, 6.18480194e-02, 6.18480194e-02, 6.18480194e-02,\n",
       "       6.18480194e-02, 6.18480194e-02, 6.18480194e-02, 6.18480194e-02,\n",
       "       6.18480194e-02, 6.18480194e-02, 6.18480194e-02, 6.18480194e-02,\n",
       "       6.18480194e-02, 6.18480194e-02, 6.18480194e-02, 6.18480194e-02,\n",
       "       6.18480194e-02, 6.18480194e-02, 6.18480194e-02, 6.18480194e-02,\n",
       "       6.18480194e-02, 6.18480194e-02, 6.18480194e-02, 6.18480194e-02,\n",
       "       6.18480194e-02, 6.18480194e-02, 6.18480194e-02, 6.18480194e-02,\n",
       "       6.18480194e-02, 6.18480194e-02, 6.18480194e-02, 6.18480194e-02,\n",
       "       6.18480194e-02, 6.18480194e-02, 6.18480194e-02, 6.18480194e-02,\n",
       "       6.18480194e-02, 6.18480194e-02, 6.18480194e-02, 6.18480194e-02,\n",
       "       6.18480194e-02, 6.18480194e-02, 6.18480194e-02, 6.18480194e-02,\n",
       "       6.18480194e-02, 6.18480194e-02, 6.18480194e-02, 6.18480194e-02,\n",
       "       6.18480194e-02, 6.18480194e-02, 6.18480194e-02, 6.18480194e-02,\n",
       "       6.18480194e-02, 6.18480194e-02, 6.18480194e-02, 6.18480193e-02])"
      ]
     },
     "execution_count": 16,
     "metadata": {},
     "output_type": "execute_result"
    }
   ],
   "source": [
    "x_out[tot_points*3:tot_points*4]"
   ]
  }
 ],
 "metadata": {
  "kernelspec": {
   "display_name": "Python 3",
   "language": "python",
   "name": "python3"
  },
  "language_info": {
   "codemirror_mode": {
    "name": "ipython",
    "version": 3
   },
   "file_extension": ".py",
   "mimetype": "text/x-python",
   "name": "python",
   "nbconvert_exporter": "python",
   "pygments_lexer": "ipython3",
   "version": "3.7.8"
  }
 },
 "nbformat": 4,
 "nbformat_minor": 2
}
