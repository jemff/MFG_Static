{
 "cells": [
  {
   "cell_type": "code",
   "execution_count": 2,
   "metadata": {},
   "outputs": [],
   "source": [
    "import numpy as np\n",
    "import casadi as ca\n",
    "import matplotlib.pyplot as plt\n"
   ]
  },
  {
   "cell_type": "code",
   "execution_count": 49,
   "metadata": {},
   "outputs": [],
   "source": [
    "class spectral_method:\n",
    "    def __init__(self, depth, layers, segments = 1):\n",
    "\n",
    "        self.n = layers\n",
    "        self.x = self.JacobiGL(0, 0, layers-1)\n",
    "\n",
    "        D_calc = lambda n: np.matmul(np.transpose(self.vandermonde_dx()),\n",
    "                                                   np.linalg.inv(np.transpose(self.vandermonde_calculator())))*(depth/2)\n",
    "\n",
    "        self.D = D_calc(layers)\n",
    "        M_calc = lambda n: np.dot(np.linalg.inv(self.vandermonde_calculator()),\n",
    "                                       np.linalg.inv(np.transpose(self.vandermonde_calculator())))*(depth/2)\n",
    "\n",
    "        self.M = M_calc(layers)\n",
    "        self.x = ((self.x+1)/2) * depth\n",
    "        self.segments = segments\n",
    "\n",
    "        if segments>1:\n",
    "            M_T = np.zeros((layers*segments, layers*segments))\n",
    "            D_T = np.zeros((layers*segments, layers*segments))\n",
    "            x_T = np.zeros(layers*segments)\n",
    "            s_x = depth/segments\n",
    "            x_n = np.copy(self.x)/segments\n",
    "\n",
    "            for k in range(segments):\n",
    "                M_T[k*layers:(k+1)*layers, k*layers:(k+1)*layers] = self.M/segments\n",
    "                D_T[k*layers:(k+1)*layers, k*layers:(k+1)*layers] = self.D/segments\n",
    "                x_T[k*layers:(k+1)*layers] = x_n + k*s_x\n",
    "            \n",
    "            self.D = D_T\n",
    "            self.M = M_T\n",
    "            self.x = x_T\n",
    "\n",
    "    def JacobiGL(self, a, b, n):\n",
    "        alpha = a + 1\n",
    "        beta = b + 1\n",
    "        N = n - 2\n",
    "        if N == 0:\n",
    "            x = np.array([(alpha - beta) / (alpha + beta + 2)])\n",
    "            w = 2\n",
    "        else:\n",
    "            h1 = 2 * np.arange(0, N + 1) + alpha + beta\n",
    "            J1 = np.diag(-1 / 2 * (alpha ** 2 - beta ** 2) / (h1 + 2) / h1)\n",
    "            J2 = np.diag(2 / (h1[0:N] + 2) * np.sqrt(np.arange(1, N + 1) * (np.arange(1, N + 1) + alpha + beta) *\n",
    "                                                     (np.arange(1, N + 1) + alpha) * (np.arange(1, N + 1) + beta) * (\n",
    "                                                                 1 / (h1[0:N] + 1)) * (1 / (h1[0:N] + 3))), 1)\n",
    "            J = J1 + J2\n",
    "            J = J + J.T\n",
    "            x, w = np.linalg.eig(J)\n",
    "            \n",
    "        return np.array([-1, *np.sort(x), 1])\n",
    "\n",
    "    def JacobiP(self, x, alpha, beta, n):\n",
    "        P_n = np.zeros((n, x.shape[0]))\n",
    "        P_n[0] = 1\n",
    "        P_n[1] = 0.5 * (alpha - beta + (alpha + beta + 2) * x)\n",
    "        for i in range(1, n - 1):\n",
    "            an1n = 2 * (i + alpha) * (i + beta) / ((2 * i + alpha + beta + 1) * (2 * i + alpha + beta))\n",
    "            ann = (alpha ** 2 - beta ** 2) / ((2 * i + alpha + beta + 2) * (2 * i + alpha + beta))\n",
    "            anp1n = 2 * (i + 1) * (i + alpha + beta + 1) / ((2 * i + alpha + beta + 2) * (2 * i + alpha + beta + 1))\n",
    "\n",
    "            P_n[i + 1] = ((ann + x) * P_n[i] - an1n * P_n[i - 1]) / anp1n\n",
    "\n",
    "        return P_n\n",
    "\n",
    "\n",
    "    def JacobiP_n(self, x, alpha, beta, n):\n",
    "        P_n = self.JacobiP(x, alpha, beta, n)\n",
    "        if alpha == 1 and beta == 1:\n",
    "            gamma = lambda alpha, beta, m: 2 ** (3) * (m + 1) / (m + 2) * 1 / ((2 * m + alpha + beta + 1))\n",
    "        elif alpha == 0 and beta == 0:\n",
    "            gamma = lambda alpha, beta, m: 2 / ((2 * m + alpha + beta + 1))\n",
    "        elif alpha == -1 / 2 and beta == - 1 / 2:\n",
    "            gamma = lambda alpha, beta, m: 2 * scp.math.factorial(m) / ((2 * m + alpha + beta + 1) * scp.gamma(m + 1 / 2))\n",
    "\n",
    "        for i in range(n):\n",
    "            d = np.sqrt(gamma(alpha, beta, i))\n",
    "            P_n[i] = P_n[i] / d\n",
    "\n",
    "        return P_n\n",
    "\n",
    "\n",
    "    def GradJacobi_n(self, x, alpha, beta, n):\n",
    "        P_diff = np.zeros((n, x.shape[0]))\n",
    "        JacobiPnorma = self.JacobiP_n(x, alpha + 1, beta + 1, n)\n",
    "        for i in range(1, n):\n",
    "            P_diff[i] = JacobiPnorma[i - 1] * np.sqrt(i * (i + alpha + beta + 1))\n",
    "        return P_diff\n",
    "\n",
    "\n",
    "\n",
    "    def vandermonde_calculator(self):\n",
    "        n = self.n\n",
    "        x = self.x\n",
    "        return (self.JacobiP_n(x, 0, 0, n))\n",
    "\n",
    "\n",
    "    def vandermonde_dx(self):\n",
    "        n = self.n\n",
    "        x = self.x\n",
    "        return (self.GradJacobi_n(x, 0, 0, n))\n",
    "\n",
    "    def expander(self, old_spectral, transform_vec):\n",
    "        new_spectral = self\n",
    "        \n",
    "        length = old_spectral.x[-1]\n",
    "        coeffs = np.linalg.inv(old.spectral.JacobiP_n(2*old_spectral.x/length - 1, 0, 0, old_spectral.n).T) @ transform_vec\n",
    "        transformer = new_spectral.JacobiP_n(2*new_spectral.x/new_spectral.x[-1] - 1, 0, 0, old_spectral.n).T\n",
    "        return transformer @ coeffs\n",
    "   \n",
    "\n",
    "    def projector(self, old_spec, big_vec):\n",
    "        pass\n",
    "\n",
    "    def interpolater(self, new_points, transform_vec):\n",
    "        spectral = self\n",
    "        length = spectral.x[-1]\n",
    "        coeffs = np.linalg.inv(spectral.JacobiP_n(2*spectral.x/length - 1, 0, 0, spectral.n).T) @ transform_vec\n",
    "        transformer = spectral.JacobiP_n(2*new_points/new_points[-1] - 1, 0, 0, spectral.n).T\n",
    "        return transformer @ coeffs\n"
   ]
  },
  {
   "cell_type": "code",
   "execution_count": 3,
   "metadata": {},
   "outputs": [],
   "source": [
    "class simple_method:\n",
    "    def __init__(self, depth, total_points):\n",
    "\n",
    "        tot_points = total_points\n",
    "        \n",
    "        self.x = np.linspace(0,depth,tot_points) \n",
    "\n",
    "        self.M = depth/(tot_points-1) * 0.5 * (np.identity(tot_points)+ np.diag(np.ones(tot_points -1), -1))"
   ]
  },
  {
   "cell_type": "code",
   "execution_count": 1,
   "metadata": {},
   "outputs": [
    {
     "ename": "NameError",
     "evalue": "name 'simple_method' is not defined",
     "output_type": "error",
     "traceback": [
      "\u001b[0;31m---------------------------------------------------------------------------\u001b[0m",
      "\u001b[0;31mNameError\u001b[0m                                 Traceback (most recent call last)",
      "\u001b[0;32m<ipython-input-1-ff2608f7fc87>\u001b[0m in \u001b[0;36m<module>\u001b[0;34m\u001b[0m\n\u001b[1;32m      6\u001b[0m \u001b[0;31m#Mx = spectral_method(length, layers, segments)\u001b[0m\u001b[0;34m\u001b[0m\u001b[0;34m\u001b[0m\u001b[0;34m\u001b[0m\u001b[0m\n\u001b[1;32m      7\u001b[0m \u001b[0;34m\u001b[0m\u001b[0m\n\u001b[0;32m----> 8\u001b[0;31m \u001b[0mMx\u001b[0m \u001b[0;34m=\u001b[0m \u001b[0msimple_method\u001b[0m\u001b[0;34m(\u001b[0m\u001b[0mlength\u001b[0m\u001b[0;34m,\u001b[0m \u001b[0mtot_points\u001b[0m\u001b[0;34m)\u001b[0m\u001b[0;34m\u001b[0m\u001b[0;34m\u001b[0m\u001b[0m\n\u001b[0m\u001b[1;32m      9\u001b[0m \u001b[0;34m\u001b[0m\u001b[0m\n\u001b[1;32m     10\u001b[0m \u001b[0mres_conc\u001b[0m \u001b[0;34m=\u001b[0m \u001b[0mnp\u001b[0m\u001b[0;34m.\u001b[0m\u001b[0mexp\u001b[0m\u001b[0;34m(\u001b[0m\u001b[0;34m-\u001b[0m\u001b[0mMx\u001b[0m\u001b[0;34m.\u001b[0m\u001b[0mx\u001b[0m\u001b[0;34m)\u001b[0m\u001b[0;34m\u001b[0m\u001b[0;34m\u001b[0m\u001b[0m\n",
      "\u001b[0;31mNameError\u001b[0m: name 'simple_method' is not defined"
     ]
    }
   ],
   "source": [
    "layers = 5\n",
    "segments = 30\n",
    "length = 30\n",
    "tot_points = layers*segments\n",
    "\n",
    "#Mx = spectral_method(length, layers, segments)\n",
    "\n",
    "Mx = simple_method(length, tot_points)\n",
    "\n",
    "res_conc = np.exp(-Mx.x)\n",
    "beta = np.exp(-Mx.x**2)+0.001\n",
    "mu1 = ca.SX.sym('mu', Mx.x.shape[0])\n",
    "mu2 = ca.SX.sym('mu', Mx.x.shape[0])\n",
    "lam = ca.SX.sym('lam', 2)\n",
    "sigma = ca.SX.sym('sigma', Mx.x.shape[0])\n",
    "sigma_p = ca.SX.sym('sigma_p', Mx.x.shape[0])\n",
    "sigma_bar = ca.SX.sym('sigma_bar', Mx.x.shape[0])\n",
    "inte = np.ones(tot_points).reshape(1,tot_points) \n",
    "\n",
    "gamma0 = 1\n",
    "gamma1 = 1\n",
    "gamma2 = 2\n",
    "gamma3 = 1\n",
    "gamma4 = 1\n",
    "gamma5 = 0.5\n",
    "\n",
    "df1 = (res_conc* gamma1/(gamma0*inte @ (Mx.M @ (sigma*res_conc)) + gamma1)**2-sigma_p*beta/(gamma2+gamma3*inte @ (Mx.M @ (sigma*beta*sigma_p)))) - lam[0]*np.ones(tot_points)\n",
    "df2 = (gamma4*sigma*beta/(gamma3*inte @ (Mx.M @ (sigma*beta*sigma_p))+gamma4)**2) - lam[1]*np.ones(tot_points)\n",
    "\n",
    "df = ca.vertcat(df1, df2)\n",
    "g1 = df + ca.vertcat(mu1, mu2)\n",
    "g2 = inte @ Mx.M @ sigma_p - 1\n",
    "g3 = inte @ Mx.M @ sigma - 1\n",
    "g = ca.vertcat(g1, g2, g3)\n",
    "\n",
    "f = inte @ Mx.M @ (sigma*mu1) + inte @ Mx.M @ (sigma_p * mu2)"
   ]
  },
  {
   "cell_type": "code",
   "execution_count": 170,
   "metadata": {},
   "outputs": [],
   "source": [
    "import time as time"
   ]
  },
  {
   "cell_type": "code",
   "execution_count": 176,
   "metadata": {},
   "outputs": [
    {
     "name": "stdout",
     "output_type": "stream",
     "text": [
      "      solver  :   t_proc      (avg)   t_wall      (avg)    n_eval\n",
      "       nlp_f  |   5.82ms (153.05us) 800.79us ( 21.07us)        38\n",
      "       nlp_g  |  19.36ms (509.37us)   2.63ms ( 69.18us)        38\n",
      "  nlp_grad_f  |  10.10ms (259.10us)   1.41ms ( 36.21us)        39\n",
      "   nlp_jac_g  | 768.90ms ( 19.72ms) 106.87ms (  2.74ms)        39\n",
      "       total  |  16.56 s ( 16.56 s)   2.40 s (  2.40 s)         1\n",
      "Solved 3.062230348587036\n"
     ]
    },
    {
     "data": {
      "text/plain": [
       "[<matplotlib.lines.Line2D at 0x7f4a03ba9510>]"
      ]
     },
     "execution_count": 176,
     "metadata": {},
     "output_type": "execute_result"
    },
    {
     "data": {
      "image/png": "[encoded data removed]",
      "text/plain": [
       "<Figure size 432x288 with 1 Axes>"
      ]
     },
     "metadata": {
      "needs_background": "light"
     },
     "output_type": "display_data"
    }
   ],
   "source": [
    "sigmas = ca.vertcat(sigma, sigma_p)\n",
    "x = ca.vertcat(*[sigmas, mu1, mu2, lam])\n",
    "lbg = np.zeros(2*(tot_points + 1))\n",
    "ubg = np.zeros(2*(tot_points + 1))\n",
    "\n",
    "s_opts = {'ipopt': {'print_level' : 1, 'linear_solver':'ma57', 'hessian_approximation':'limited-memory'} }#, 'tol':10**-3, 'acceptable_tol': 10**(-2)}}\n",
    "prob = {'x': x, 'f': f, 'g': g}\n",
    "lbx = ca.vertcat(*[np.zeros(x.size()[0] - 2), -ca.inf, -ca.inf])\n",
    "\n",
    "t0 = time.time()\n",
    "solver = ca.nlpsol('solver', 'ipopt', prob, s_opts)\n",
    "sol = solver(lbx = lbx, lbg = lbg, ubg = ubg)\n",
    "t1 = time.time()\n",
    "\n",
    "print(\"Solved\", t1-t0)\n",
    "x_out = np.array(sol['x']).flatten()\n",
    "#print(x_out)\n",
    "plt.plot(Mx.x, x_out[0:tot_points])\n",
    "plt.plot(Mx.x, x_out[tot_points:2*tot_points])"
   ]
  },
  {
   "cell_type": "code",
   "execution_count": 145,
   "metadata": {
    "scrolled": false
   },
   "outputs": [
    {
     "name": "stdout",
     "output_type": "stream",
     "text": [
      "      solver  :   t_proc      (avg)   t_wall      (avg)    n_eval\n",
      "       nlp_f  |   2.99ms ( 69.51us) 381.19us (  8.86us)        43\n",
      "       nlp_g  |   8.58ms (199.51us)   1.07ms ( 24.92us)        43\n",
      "  nlp_grad_f  |   4.56ms (103.73us) 596.53us ( 13.56us)        44\n",
      "  nlp_hess_l  | 942.64ms ( 22.44ms) 119.47ms (  2.84ms)        42\n",
      "   nlp_jac_g  | 207.76ms (  4.72ms)  27.05ms (614.75us)        44\n",
      "       total  |   3.45 s (  3.45 s) 441.41ms (441.41ms)         1\n",
      "Solved 1.8632652759552002\n"
     ]
    },
    {
     "data": {
      "text/plain": [
       "[<matplotlib.lines.Line2D at 0x7f4a182abf50>]"
      ]
     },
     "execution_count": 145,
     "metadata": {},
     "output_type": "execute_result"
    },
    {
     "data": {
      "image/png": "[encoded data removed]",
      "text/plain": [
       "<Figure size 432x288 with 1 Axes>"
      ]
     },
     "metadata": {
      "needs_background": "light"
     },
     "output_type": "display_data"
    }
   ],
   "source": [
    "sigmas = ca.vertcat(sigma, sigma_p)\n",
    "x = ca.vertcat(*[sigmas, mu1, mu2, lam])\n",
    "lbg = np.zeros(2*(tot_points + 1))\n",
    "ubg = np.zeros(2*(tot_points + 1))\n",
    "s_opts = {'ipopt': {'print_level' : 1, 'linear_solver':'ma57'}}\n",
    "prob = {'x': x, 'f': f, 'g': g}\n",
    "lbx = ca.vertcat(*[np.zeros(x.size()[0] - 2), -ca.inf, -ca.inf])\n",
    "\n",
    "t0 = time.time()\n",
    "solver = ca.nlpsol('solver', 'ipopt', prob, s_opts)\n",
    "sol = solver(lbx = lbx, lbg = lbg, ubg = ubg)\n",
    "t1 = time.time()\n",
    "print(\"Solved\", t1-t0)\n",
    "x_out = np.array(sol['x']).flatten()\n",
    "#print(x_out)\n",
    "plt.plot(Mx.x, x_out[0:tot_points])\n",
    "plt.plot(Mx.x, x_out[tot_points:2*tot_points])"
   ]
  },
  {
   "cell_type": "code",
   "execution_count": 65,
   "metadata": {},
   "outputs": [
    {
     "name": "stdout",
     "output_type": "stream",
     "text": [
      "      solver  :   t_proc      (avg)   t_wall      (avg)    n_eval\n",
      "       nlp_f  | 628.00us (  9.97us) 635.45us ( 10.09us)        63\n",
      "       nlp_g  |   6.88ms (109.14us)   6.84ms (108.59us)        63\n",
      "  nlp_grad_f  |   1.14ms ( 17.83us)   1.04ms ( 16.25us)        64\n",
      "  nlp_hess_l  |   2.55 s ( 41.10ms)   2.53 s ( 40.88ms)        62\n",
      "   nlp_jac_g  | 183.72ms (  2.87ms) 182.77ms (  2.86ms)        64\n",
      "       total  |  13.82 s ( 13.82 s)  13.74 s ( 13.74 s)         1\n",
      "Solved 91.29399824142456\n"
     ]
    },
    {
     "data": {
      "text/plain": [
       "[<matplotlib.lines.Line2D at 0x7f4a1d7d5750>]"
      ]
     },
     "execution_count": 65,
     "metadata": {},
     "output_type": "execute_result"
    },
    {
     "data": {
      "image/png": "[encoded data removed]",
      "text/plain": [
       "<Figure size 432x288 with 1 Axes>"
      ]
     },
     "metadata": {
      "needs_background": "light"
     },
     "output_type": "display_data"
    }
   ],
   "source": [
    "sigmas = ca.vertcat(sigma, sigma_p)\n",
    "x = ca.vertcat(*[sigmas, mu1, mu2, lam])\n",
    "lbg = np.zeros(2*(tot_points + 1))\n",
    "ubg = np.zeros(2*(tot_points + 1))\n",
    "\n",
    "s_opts = {'ipopt': {'print_level' : 1, 'linear_solver':'ma27'}}\n",
    "prob = {'x': x, 'f': f, 'g': g}\n",
    "lbx = ca.vertcat(*[np.zeros(x.size()[0] - 2), -ca.inf, -ca.inf])\n",
    "\n",
    "t0 = time.time()\n",
    "solver = ca.nlpsol('solver', 'ipopt', prob, s_opts)\n",
    "sol = solver(lbx = lbx, lbg = lbg, ubg = ubg)\n",
    "t1 = time.time()\n",
    "\n",
    "print(\"Solved\", t1-t0)\n",
    "x_out = np.array(sol['x']).flatten()\n",
    "#print(x_out)\n",
    "plt.plot(Mx.x, x_out[0:tot_points])\n",
    "plt.plot(Mx.x, x_out[tot_points:2*tot_points])"
   ]
  },
  {
   "cell_type": "code",
   "execution_count": 55,
   "metadata": {},
   "outputs": [
    {
     "data": {
      "text/plain": [
       "[<matplotlib.lines.Line2D at 0x7f4a1dc17810>]"
      ]
     },
     "execution_count": 55,
     "metadata": {},
     "output_type": "execute_result"
    },
    {
     "data": {
      "image/png": "[encoded data removed]",
      "text/plain": [
       "<Figure size 432x288 with 1 Axes>"
      ]
     },
     "metadata": {
      "needs_background": "light"
     },
     "output_type": "display_data"
    }
   ],
   "source": [
    "plt.plot(Mx.x, Mx.D @ x_out[0:tot_points])"
   ]
  },
  {
   "cell_type": "code",
   "execution_count": 56,
   "metadata": {},
   "outputs": [
    {
     "data": {
      "text/plain": [
       "[<matplotlib.lines.Line2D at 0x7f4a1db9fdd0>]"
      ]
     },
     "execution_count": 56,
     "metadata": {},
     "output_type": "execute_result"
    },
    {
     "data": {
      "image/png": "[encoded data removed]",
      "text/plain": [
       "<Figure size 432x288 with 1 Axes>"
      ]
     },
     "metadata": {
      "needs_background": "light"
     },
     "output_type": "display_data"
    }
   ],
   "source": [
    "plt.plot(Mx.x, Mx.D @ x_out[tot_points:2*tot_points])"
   ]
  },
  {
   "cell_type": "code",
   "execution_count": 9,
   "metadata": {},
   "outputs": [
    {
     "data": {
      "text/plain": [
       "array([0.09074956, 0.06184802])"
      ]
     },
     "execution_count": 9,
     "metadata": {},
     "output_type": "execute_result"
    }
   ],
   "source": [
    "x_out[-2:]"
   ]
  },
  {
   "cell_type": "code",
   "execution_count": 10,
   "metadata": {},
   "outputs": [
    {
     "data": {
      "text/plain": [
       "[<matplotlib.lines.Line2D at 0x7f4a27626cd0>]"
      ]
     },
     "execution_count": 10,
     "metadata": {},
     "output_type": "execute_result"
    },
    {
     "data": {
      "image/png": "[encoded data removed]",
      "text/plain": [
       "<Figure size 432x288 with 1 Axes>"
      ]
     },
     "metadata": {
      "needs_background": "light"
     },
     "output_type": "display_data"
    }
   ],
   "source": [
    "plt.plot(Mx.x, x_out[0:tot_points])\n",
    "plt.plot(Mx.x, x_out[tot_points:2*tot_points])"
   ]
  },
  {
   "cell_type": "code",
   "execution_count": 11,
   "metadata": {},
   "outputs": [
    {
     "data": {
      "text/plain": [
       "array([450.])"
      ]
     },
     "execution_count": 11,
     "metadata": {},
     "output_type": "execute_result"
    }
   ],
   "source": [
    "inte @ (Mx.M @ Mx.x)"
   ]
  },
  {
   "cell_type": "code",
   "execution_count": 12,
   "metadata": {},
   "outputs": [
    {
     "data": {
      "text/plain": [
       "array([2.1939846e-07])"
      ]
     },
     "execution_count": 12,
     "metadata": {},
     "output_type": "execute_result"
    }
   ],
   "source": [
    "inte @ Mx.M @ (x_out[tot_points*2:tot_points*3] * x_out[0:tot_points])"
   ]
  },
  {
   "cell_type": "code",
   "execution_count": 13,
   "metadata": {},
   "outputs": [
    {
     "data": {
      "text/plain": [
       "array([1.])"
      ]
     },
     "execution_count": 13,
     "metadata": {},
     "output_type": "execute_result"
    }
   ],
   "source": [
    "inte @ Mx.M @ (x_out[0:tot_points])"
   ]
  },
  {
   "cell_type": "code",
   "execution_count": 14,
   "metadata": {},
   "outputs": [
    {
     "data": {
      "text/plain": [
       "array([1.])"
      ]
     },
     "execution_count": 14,
     "metadata": {},
     "output_type": "execute_result"
    }
   ],
   "source": [
    "inte @ Mx.M @ (x_out[tot_points:2*tot_points])"
   ]
  },
  {
   "cell_type": "code",
   "execution_count": 15,
   "metadata": {},
   "outputs": [
    {
     "data": {
      "text/plain": [
       "array([5.96182638e-01, 4.54809032e-01, 4.05666573e-01, 4.15879164e-01,\n",
       "       4.73011839e-01, 5.44086025e-01, 4.10353221e-01, 1.23672466e-07,\n",
       "       1.23674996e-07, 1.23675159e-07, 1.23675186e-07, 1.23675192e-07,\n",
       "       1.23675195e-07, 1.23675196e-07, 1.23675197e-07, 1.23675198e-07,\n",
       "       1.23675198e-07, 1.23675198e-07, 1.23675199e-07, 1.23675199e-07,\n",
       "       1.23675199e-07, 1.23675199e-07, 1.23675199e-07, 1.23675199e-07,\n",
       "       1.23675199e-07, 1.23675199e-07, 1.23675199e-07, 1.23675199e-07,\n",
       "       1.23675199e-07, 1.23675199e-07, 1.23675199e-07, 1.23675199e-07,\n",
       "       1.23675199e-07, 1.23675199e-07, 1.23675199e-07, 1.23675199e-07,\n",
       "       1.23675199e-07, 1.23675199e-07, 1.23675199e-07, 1.23675199e-07,\n",
       "       1.23675199e-07, 1.23675199e-07, 1.23675199e-07, 1.23675199e-07,\n",
       "       1.23675199e-07, 1.23675199e-07, 1.23675199e-07, 1.23675199e-07,\n",
       "       1.23675199e-07, 1.23675199e-07, 1.23675199e-07, 1.23675199e-07,\n",
       "       1.23675199e-07, 1.23675199e-07, 1.23675199e-07, 1.23675199e-07,\n",
       "       1.23675199e-07, 1.23675199e-07, 1.23675199e-07, 1.23675199e-07,\n",
       "       1.23675199e-07, 1.23675199e-07, 1.23675199e-07, 1.23675199e-07,\n",
       "       1.23675199e-07, 1.23675199e-07, 1.23675199e-07, 1.23675199e-07,\n",
       "       1.23675199e-07, 1.23675199e-07, 1.23675199e-07, 1.23675199e-07,\n",
       "       1.23675199e-07, 1.23675199e-07, 1.23675199e-07, 1.23675199e-07,\n",
       "       1.23675199e-07, 1.23675199e-07, 1.23675199e-07, 1.23675199e-07,\n",
       "       1.23675199e-07, 1.23675199e-07, 1.23675199e-07, 1.23675199e-07,\n",
       "       1.23675199e-07, 1.23675199e-07, 1.23675199e-07, 1.23675199e-07,\n",
       "       1.23675199e-07, 1.23675199e-07, 1.23675199e-07, 1.23675199e-07,\n",
       "       1.23675199e-07, 1.23675199e-07, 1.23675199e-07, 1.23675199e-07,\n",
       "       1.23675199e-07, 1.23675199e-07, 1.23675199e-07, 2.57350366e-07])"
      ]
     },
     "execution_count": 15,
     "metadata": {},
     "output_type": "execute_result"
    }
   ],
   "source": [
    "x_out[tot_points:2*tot_points]"
   ]
  },
  {
   "cell_type": "code",
   "execution_count": 16,
   "metadata": {},
   "outputs": [
    {
     "data": {
      "text/plain": [
       "array([3.87139468e-09, 8.18286642e-09, 1.03848413e-08, 9.88306718e-09,\n",
       "       7.47968265e-09, 5.19351855e-09, 1.01560910e-08, 6.18480129e-02,\n",
       "       6.18480187e-02, 6.18480193e-02, 6.18480194e-02, 6.18480194e-02,\n",
       "       6.18480194e-02, 6.18480194e-02, 6.18480194e-02, 6.18480194e-02,\n",
       "       6.18480194e-02, 6.18480194e-02, 6.18480194e-02, 6.18480194e-02,\n",
       "       6.18480194e-02, 6.18480194e-02, 6.18480194e-02, 6.18480194e-02,\n",
       "       6.18480194e-02, 6.18480194e-02, 6.18480194e-02, 6.18480194e-02,\n",
       "       6.18480194e-02, 6.18480194e-02, 6.18480194e-02, 6.18480194e-02,\n",
       "       6.18480194e-02, 6.18480194e-02, 6.18480194e-02, 6.18480194e-02,\n",
       "       6.18480194e-02, 6.18480194e-02, 6.18480194e-02, 6.18480194e-02,\n",
       "       6.18480194e-02, 6.18480194e-02, 6.18480194e-02, 6.18480194e-02,\n",
       "       6.18480194e-02, 6.18480194e-02, 6.18480194e-02, 6.18480194e-02,\n",
       "       6.18480194e-02, 6.18480194e-02, 6.18480194e-02, 6.18480194e-02,\n",
       "       6.18480194e-02, 6.18480194e-02, 6.18480194e-02, 6.18480194e-02,\n",
       "       6.18480194e-02, 6.18480194e-02, 6.18480194e-02, 6.18480194e-02,\n",
       "       6.18480194e-02, 6.18480194e-02, 6.18480194e-02, 6.18480194e-02,\n",
       "       6.18480194e-02, 6.18480194e-02, 6.18480194e-02, 6.18480194e-02,\n",
       "       6.18480194e-02, 6.18480194e-02, 6.18480194e-02, 6.18480194e-02,\n",
       "       6.18480194e-02, 6.18480194e-02, 6.18480194e-02, 6.18480194e-02,\n",
       "       6.18480194e-02, 6.18480194e-02, 6.18480194e-02, 6.18480194e-02,\n",
       "       6.18480194e-02, 6.18480194e-02, 6.18480194e-02, 6.18480194e-02,\n",
       "       6.18480194e-02, 6.18480194e-02, 6.18480194e-02, 6.18480194e-02,\n",
       "       6.18480194e-02, 6.18480194e-02, 6.18480194e-02, 6.18480194e-02,\n",
       "       6.18480194e-02, 6.18480194e-02, 6.18480194e-02, 6.18480194e-02,\n",
       "       6.18480194e-02, 6.18480194e-02, 6.18480194e-02, 6.18480193e-02])"
      ]
     },
     "execution_count": 16,
     "metadata": {},
     "output_type": "execute_result"
    }
   ],
   "source": [
    "x_out[tot_points*3:tot_points*4]"
   ]
  }
 ],
 "metadata": {
  "kernelspec": {
   "display_name": "Python 3",
   "language": "python",
   "name": "python3"
  },
  "language_info": {
   "codemirror_mode": {
    "name": "ipython",
    "version": 3
   },
   "file_extension": ".py",
   "mimetype": "text/x-python",
   "name": "python",
   "nbconvert_exporter": "python",
   "pygments_lexer": "ipython3",
   "version": "3.7.3"
  }
 },
 "nbformat": 4,
 "nbformat_minor": 2
}
